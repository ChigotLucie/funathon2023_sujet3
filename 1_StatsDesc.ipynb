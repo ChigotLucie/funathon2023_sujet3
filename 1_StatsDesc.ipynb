{
 "cells": [
  {
   "cell_type": "markdown",
   "id": "db32b46d-7c30-4d25-9926-d1dd16ba34fe",
   "metadata": {},
   "source": [
    "# Partie 1 : Stats Desc"
   ]
  }
 ],
 "metadata": {
  "kernelspec": {
   "display_name": "Python 3 (ipykernel)",
   "language": "python",
   "name": "python3"
  },
  "language_info": {
   "codemirror_mode": {
    "name": "ipython",
    "version": 3
   },
   "file_extension": ".py",
   "mimetype": "text/x-python",
   "name": "python",
   "nbconvert_exporter": "python",
   "pygments_lexer": "ipython3",
   "version": "3.10.9"
  }
 },
 "nbformat": 4,
 "nbformat_minor": 5
}
