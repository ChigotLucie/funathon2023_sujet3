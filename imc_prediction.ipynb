{
 "cells": [
  {
   "cell_type": "markdown",
   "id": "27019301-a863-4bc0-a519-3a6c10b1f1d6",
   "metadata": {},
   "source": [
    "1) Régression linéaire avec 10 variables\n",
    "2) ML bourin toutes les variables\n",
    "3) Selection de variables Lasso/ridge\n",
    "4) réduc dimension "
   ]
  },
  {
   "cell_type": "code",
   "execution_count": null,
   "id": "e2232687-d38e-42a8-8939-44a30dfc939b",
   "metadata": {},
   "outputs": [],
   "source": [
    "import numpy as np\n",
    "import pandas as pd\n",
    "from sklearn.model_selection import train_test_split"
   ]
  },
  {
   "cell_type": "code",
   "execution_count": null,
   "id": "224df2a3-cbbf-49a7-bb55-5208282e4bce",
   "metadata": {},
   "outputs": [],
   "source": [
    "list_data = [\"https://www.data.gouv.fr/fr/datasets/r/f982ee4a-b2db-4608-ab95-bfe51dfc4897\", # Description individus\n",
    "\"https://www.data.gouv.fr/fr/datasets/r/099351b9-e32e-4e38-8f23-dec21fd07c71\", # habitudes individus\n",
    "\"https://www.data.gouv.fr/fr/datasets/r/e9a34b81-2105-4d82-a023-c14947fb2b2c\", # sédentarité\n",
    "\"https://www.data.gouv.fr/fr/datasets/r/e7f48716-368f-48e1-a7c3-ea0638b0d6a7\"] # apport nutrition"
   ]
  },
  {
   "cell_type": "code",
   "execution_count": null,
   "id": "a66e784d-9ffe-4116-b1c6-75ac0f99c118",
   "metadata": {},
   "outputs": [],
   "source": [
    "desc_indiv = pd.read_csv(list_data[0],sep=\";\").infer_objects()"
   ]
  },
  {
   "cell_type": "code",
   "execution_count": null,
   "id": "eb0d5a46-5597-404a-b404-08aea34f5413",
   "metadata": {},
   "outputs": [],
   "source": [
    "habit_indiv = pd.read_csv(list_data[1],sep=\";\").infer_objects()"
   ]
  },
  {
   "cell_type": "code",
   "execution_count": null,
   "id": "a2dd74d2-b6cd-4caa-bb19-aa2fec412be9",
   "metadata": {},
   "outputs": [],
   "source": [
    "sedent = pd.read_csv(list_data[2],sep=\";\").infer_objects()"
   ]
  },
  {
   "cell_type": "code",
   "execution_count": null,
   "id": "bd64c17e-ebdc-457f-a89c-104c1c0c7439",
   "metadata": {},
   "outputs": [],
   "source": [
    "apport_nut = pd.read_csv(list_data[3],sep=\";\").infer_objects()"
   ]
  },
  {
   "cell_type": "code",
   "execution_count": null,
   "id": "a57dcd15-2e62-43c3-a848-4d8406e72302",
   "metadata": {},
   "outputs": [],
   "source": [
    "sedent = sedent.drop(\n",
    "    ['POPULATION'],\n",
    "    axis=1,\n",
    ")"
   ]
  },
  {
   "cell_type": "code",
   "execution_count": null,
   "id": "d05a0b4f-e22a-4c93-8814-c067cc6b7a2f",
   "metadata": {},
   "outputs": [],
   "source": [
    "desc_indiv = desc_indiv.drop(\n",
    "    ['NOMEN', 'taille_m', 'taille_d', 'taille', 'poids_m', 'poids_d', 'poids'],\n",
    "    axis=1,\n",
    ")"
   ]
  },
  {
   "cell_type": "code",
   "execution_count": null,
   "id": "817a2381-96d1-46a9-abf6-8073688817b4",
   "metadata": {},
   "outputs": [],
   "source": [
    "habit_indiv = habit_indiv.drop(\n",
    "    ['POPULATION'],\n",
    "    axis=1,\n",
    ").dropna(\n",
    "    axis=1, how='all'\n",
    ")"
   ]
  },
  {
   "cell_type": "code",
   "execution_count": null,
   "id": "19305f7e-cbbf-47d4-8d82-002b5963ec59",
   "metadata": {},
   "outputs": [],
   "source": [
    "apport_nut = apport_nut.drop(\n",
    "    ['POPULATION'],\n",
    "    axis=1,\n",
    ").dropna(\n",
    "    axis=1, how='all'\n",
    ")"
   ]
  },
  {
   "cell_type": "code",
   "execution_count": null,
   "id": "c9673123-0504-4d03-9c93-e78ce986f1d8",
   "metadata": {},
   "outputs": [],
   "source": [
    "desc_indiv.head()"
   ]
  },
  {
   "cell_type": "code",
   "execution_count": null,
   "id": "06d25c8a-fa6a-44b9-80ea-cf3db328ee4f",
   "metadata": {},
   "outputs": [],
   "source": [
    "list_var = [\n",
    "\"NOIND\",\n",
    "\"imc\",\n",
    "\"sex_PS\",\n",
    "\"tage_PS\",\n",
    "\"tage_PS_mois\",\n",
    "\"diplome_interv\",\n",
    "\"etude_4cl_interv\",\n",
    "\"situ_prof_5cl_interv\",\n",
    "\"atrav_interv\",\n",
    "\"trav_nuit_interv\",\n",
    "\"trav_nuit_2cl_interv\",\n",
    "\"PCS_8cl_interv\",\n",
    "\"PCS_4cl_interv\",\n",
    "\"tps_travail_interv\",\n",
    "\"vacances_interv\",\n",
    "\"soins\",\n",
    "\"situ_fin_3cl\",\n",
    "\"revenu\",\n",
    "\"RUC_4cl\",\n",
    "\"nbpers\",\n",
    "\"nbadu\",\n",
    "\"nbenf\",\n",
    "\"situ_alim_statut\",\n",
    "\"IA_statut\",\n",
    "\"IA_score\",\n",
    "\"statnut\",\n",
    "\"maladie_allergie_alim\",\n",
    "\"intoall_confirm_med\",\n",
    "\"regime_vegetarien\",\n",
    "\"regime_allergie\",\n",
    "\"regime_maigrir_med\",\n",
    "\"regime_maigrir_choix\",\n",
    "\"regime_autre_med\",\n",
    "\"regime_poidsstable\",\n",
    "\"regime_forme\",\n",
    "\"regime_autreraison\",\n",
    "\"regime_non\",\n",
    "\"veget_viande\",\n",
    "\"veget_prodmer\",\n",
    "\"veget_prodlait\",\n",
    "\"veget_oeuf\",\n",
    "\"veget_miel\",\n",
    "\"veget_autre_alim\",\n",
    "\"allergie_laitvache\",\n",
    "\"allergie_prepainfsoja\",\n",
    "\"allergie_prepainfamande\",\n",
    "\"allergie_gluten\",\n",
    "\"allergie_farineble\",\n",
    "\"allergie_lupin\",\n",
    "\"allergie_arachide\",\n",
    "\"allergie_fruitcoque\",\n",
    "\"allergie_oeuf\",\n",
    "\"allergie_poisson\",\n",
    "\"allergie_crustace\",\n",
    "\"allergie_mollusque\",\n",
    "\"allergie_soja\",\n",
    "\"allergie_sesame\",\n",
    "\"allergie_moutarde\",\n",
    "\"allergie_sulfite\",\n",
    "\"allergie_celeri\",\n",
    "\"allergie_autres_fruitleg\",\n",
    "\"allergie_autresalim\",\n",
    "\"allergie_nondetermine\",\n",
    "\"allergie_fruits\",\n",
    "\"allergie_legumes\",\n",
    "\"regime_passe\",\n",
    "\"regime_nb_2dernann\",\n",
    "\"regime_nb_anter2dernann\",\n",
    "\"regime_type\" ,\n",
    "\"regime_duree_sem\",\n",
    "\"regime_duree_mois\",\n",
    "\"regime_duree_nsp\" ,\n",
    "\"poids_modif\",\n",
    "\"poids_modifalim\",\n",
    "\"poids_plusAP\",\n",
    "\"poids_medicaments\",\n",
    "\"poids_substituts\",\n",
    "\"poids_chirurgie\",\n",
    "\"poids_modifalim_laityaourt\",\n",
    "\"poids_modifalim_fromage\",\n",
    "\"poids_modifalim_mg\",\n",
    "\"poids_modifalim_fruit\",\n",
    "\"poids_modifalim_legume\",\n",
    "\"poids_modifalim_pdtfeculent\",\n",
    "\"poids_modifalim_pizza\",\n",
    "\"poids_modifalim_pain\",\n",
    "\"poids_modifalim_vrouge\",\n",
    "\"poids_modifalim_volaille\",\n",
    "\"poids_modifalim_oeuf\",\n",
    "\"poids_modifalim_gateau\",\n",
    "\"poids_modifalim_edulcorant\",\n",
    "\"poids_modifalim_pdtsalleges\",\n",
    "\"poids_modifalim_BS\",\n",
    "\"poids_modifalim_eau\",\n",
    "\"poids_modifalim_autre\",\n",
    "\"poids_perception\" ,\n",
    "\"nb_prise_10kg\",\n",
    "\"menopause\",\n",
    "\"enceinte\",\n",
    "\"enceinte_nbmois\",\n",
    "\"allaite\",\n",
    "\"allaite_nbsem\",\n",
    "\"enceinte_12dermois\",\n",
    "\"fume\",\n",
    "\"nb_cigarettes_jour\",\n",
    "\"nb_cigarettes_sem\",\n",
    "\"nb_cigarettes_nsp\",\n",
    "\"nb_cigares_jour\",\n",
    "\"nb_cigares_sem\",\n",
    "\"nb_cigares_nsp\",\n",
    "\"nb_pipes_jour\",\n",
    "\"nb_pipes_sem\",\n",
    "\"nb_pipes_nsp\",\n",
    "\"fume_age_debut\",\n",
    "\"fume_age_debut_nsp\",\n",
    "\"fume_age_arret\",\n",
    "\"fume_age_arret_nsp\",\n",
    "\"bmr_kcal\"]\n"
   ]
  },
  {
   "cell_type": "code",
   "execution_count": null,
   "id": "7370cd24-1f44-475f-9156-323849c34743",
   "metadata": {},
   "outputs": [],
   "source": [
    "new_data = desc_indiv[list_var]"
   ]
  },
  {
   "cell_type": "code",
   "execution_count": null,
   "id": "3f27bbf3-e273-479a-8310-d13ee753c263",
   "metadata": {},
   "outputs": [],
   "source": [
    "new_data = new_data.dropna(subset=['imc'])"
   ]
  },
  {
   "cell_type": "markdown",
   "id": "8ab1d5fe-e80e-45b0-8c7f-1f963de0d3ff",
   "metadata": {},
   "source": [
    "SAUVEGARDER LES DONNEES DANS MINIO"
   ]
  },
  {
   "cell_type": "code",
   "execution_count": null,
   "id": "1afeedb4-ef62-4ca3-bde7-8c81e20c0175",
   "metadata": {},
   "outputs": [],
   "source": [
    "TARGET_VARIABLE=\"imc\"\n",
    "SEED=2023"
   ]
  },
  {
   "cell_type": "code",
   "execution_count": null,
   "id": "26929071-76e9-4672-8fcd-2a49142c91a5",
   "metadata": {},
   "outputs": [],
   "source": [
    "FEATURES = [\n",
    "    \"sex_PS\",\n",
    "    \"tage_PS\",\n",
    "    \"tage_PS_mois\",\n",
    "    \"diplome_interv\",\n",
    "    \"soins\",\n",
    "    \"situ_fin_3cl\",\n",
    "    \"revenu\",\n",
    "    \"situ_alim_statut\",\n",
    "    \"IA_statut\",\n",
    "    \"IA_score\",\n",
    "    \"statnut\",\n",
    "    \"poids_perception\" ,\n",
    "    \"nb_prise_10kg\",\n",
    "    \"menopause\",\n",
    "    \"enceinte\",\n",
    "    \"enceinte_nbmois\",\n",
    "    \"enceinte_12dermois\",\n",
    "    \"bmr_kcal\"\n",
    "]"
   ]
  },
  {
   "cell_type": "code",
   "execution_count": null,
   "id": "1b5068cd-d2f1-4edd-a5e3-2e131c7c39cd",
   "metadata": {},
   "outputs": [],
   "source": [
    "X = new_data[FEATURES]\n",
    "y = new_data[TARGET_VARIABLE]"
   ]
  },
  {
   "cell_type": "code",
   "execution_count": null,
   "id": "9ce9bd40-eb8c-4f51-9173-5d85639ce103",
   "metadata": {},
   "outputs": [],
   "source": [
    "X_train, X_test, y_train, y_test = train_test_split(X, y, test_size=0.2, random_state=SEED)"
   ]
  },
  {
   "cell_type": "code",
   "execution_count": 133,
   "id": "4b87529e-74d9-49e4-a1bf-ed597d3cf97d",
   "metadata": {},
   "outputs": [
    {
     "name": "stdout",
     "output_type": "stream",
     "text": [
      "<class 'pandas.core.frame.DataFrame'>\n",
      "Index: 4684 entries, 2682 to 4951\n",
      "Data columns (total 18 columns):\n",
      " #   Column              Non-Null Count  Dtype  \n",
      "---  ------              --------------  -----  \n",
      " 0   sex_PS              4684 non-null   int64  \n",
      " 1   tage_PS             4684 non-null   int64  \n",
      " 2   tage_PS_mois        201 non-null    float64\n",
      " 3   diplome_interv      4683 non-null   float64\n",
      " 4   soins               4684 non-null   int64  \n",
      " 5   situ_fin_3cl        4684 non-null   int64  \n",
      " 6   revenu              4684 non-null   int64  \n",
      " 7   situ_alim_statut    4684 non-null   int64  \n",
      " 8   IA_statut           4684 non-null   int64  \n",
      " 9   IA_score            807 non-null    float64\n",
      " 10  statnut             4675 non-null   float64\n",
      " 11  poids_perception    2584 non-null   float64\n",
      " 12  nb_prise_10kg       1707 non-null   float64\n",
      " 13  menopause           1030 non-null   float64\n",
      " 14  enceinte            671 non-null    float64\n",
      " 15  enceinte_nbmois     17 non-null     float64\n",
      " 16  enceinte_12dermois  669 non-null    float64\n",
      " 17  bmr_kcal            3280 non-null   float64\n",
      "dtypes: float64(11), int64(7)\n",
      "memory usage: 695.3 KB\n"
     ]
    }
   ],
   "source": [
    "X_train.info()"
   ]
  },
  {
   "cell_type": "code",
   "execution_count": 153,
   "id": "8caccb0d-4f78-4502-95ac-2a57c6b99bc0",
   "metadata": {},
   "outputs": [
    {
     "data": {
      "text/plain": [
       "array([      nan, 8.4799995, 2.8599999, 5.27     , 7.54     , 4.1900001,\n",
       "       6.3000002])"
      ]
     },
     "execution_count": 153,
     "metadata": {},
     "output_type": "execute_result"
    }
   ],
   "source": [
    "pd.unique(X_train.IA_score)"
   ]
  },
  {
   "cell_type": "code",
   "execution_count": 147,
   "id": "8dfd7452-24f0-40ea-b98a-1e51a61d5354",
   "metadata": {
    "collapsed": true,
    "jupyter": {
     "outputs_hidden": true
    },
    "scrolled": true
   },
   "outputs": [
    {
     "ename": "NameError",
     "evalue": "name 'nb_prise_10kg' is not defined",
     "output_type": "error",
     "traceback": [
      "\u001b[0;31m---------------------------------------------------------------------------\u001b[0m",
      "\u001b[0;31mNameError\u001b[0m                                 Traceback (most recent call last)",
      "Cell \u001b[0;32mIn[147], line 1\u001b[0m\n\u001b[0;32m----> 1\u001b[0m \u001b[43mnb_prise_10kg\u001b[49m\n\u001b[1;32m      2\u001b[0m tage_PS_mois\n\u001b[1;32m      3\u001b[0m diplome_interv\n",
      "\u001b[0;31mNameError\u001b[0m: name 'nb_prise_10kg' is not defined"
     ]
    }
   ],
   "source": [
    "tage_PS_mois\n",
    "diplome_interv\n",
    "statnut\n",
    "poids_perception\n",
    "nb_prise_10kg       \n",
    "menopause\n",
    "enceinte\n",
    "enceinte_nbmois     \n",
    "enceinte_12dermois"
   ]
  },
  {
   "cell_type": "code",
   "execution_count": null,
   "id": "eb030846-2bea-47fb-8f1c-0251631ae190",
   "metadata": {},
   "outputs": [],
   "source": [
    "median_imputer = SimpleImputer(missing_values=np.nan, strategy='median')\n",
    "ordinal_encoder = OrdinalEncoder(handle_unknown=\"use_encoded_value\", unknown_value=-1, encoded_missing_value=-1)\n",
    "\n",
    "preprocessor = ColumnTransformer(\n",
    "    transformers=[\n",
    "        (\"numerical\", median_imputer, ),\n",
    "        (\"categorical\", ordinal_encoder, make_column_selector(dtype_include=object))\n",
    "    ]\n",
    ")"
   ]
  }
 ],
 "metadata": {
  "kernelspec": {
   "display_name": "Python 3 (ipykernel)",
   "language": "python",
   "name": "python3"
  },
  "language_info": {
   "codemirror_mode": {
    "name": "ipython",
    "version": 3
   },
   "file_extension": ".py",
   "mimetype": "text/x-python",
   "name": "python",
   "nbconvert_exporter": "python",
   "pygments_lexer": "ipython3",
   "version": "3.10.9"
  }
 },
 "nbformat": 4,
 "nbformat_minor": 5
}
